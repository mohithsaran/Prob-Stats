{
 "cells": [
  {
   "cell_type": "markdown",
   "metadata": {},
   "source": [
    "A basketball player takes 5 independent free throws with a probability of 0.6 for getting a basket on each shot.\n",
    "\n",
    "Find the probability that he gets exactly 3 baskets."
   ]
  },
  {
   "cell_type": "code",
   "execution_count": 1,
   "metadata": {},
   "outputs": [
    {
     "data": {
      "text/plain": [
       "0.3455999999999997"
      ]
     },
     "execution_count": 1,
     "metadata": {},
     "output_type": "execute_result"
    }
   ],
   "source": [
    "from scipy.stats import binom\n",
    "binom.pmf(n=5,k=3,p=0.6)"
   ]
  },
  {
   "cell_type": "markdown",
   "metadata": {},
   "source": [
    "In a factory, the probability of producing a defective bulb is 0.25. A sample of 40 bulbs is collected.\n",
    "\n",
    "What is the probability that exactly 10 bulbs are defective?"
   ]
  },
  {
   "cell_type": "code",
   "execution_count": 2,
   "metadata": {},
   "outputs": [
    {
     "data": {
      "text/plain": [
       "0.14436434635625656"
      ]
     },
     "execution_count": 2,
     "metadata": {},
     "output_type": "execute_result"
    }
   ],
   "source": [
    "from scipy.stats import binom\n",
    "binom.pmf(n=40,k=10,p=0.25)"
   ]
  },
  {
   "cell_type": "markdown",
   "metadata": {},
   "source": [
    "A fair coin is flipped 4 times. What is the probability of landing 3 or less than 3 heads?"
   ]
  },
  {
   "cell_type": "code",
   "execution_count": 3,
   "metadata": {},
   "outputs": [
    {
     "data": {
      "text/plain": [
       "0.9375"
      ]
     },
     "execution_count": 3,
     "metadata": {},
     "output_type": "execute_result"
    }
   ],
   "source": [
    "binom.cdf(n=4,p=0.5,k=3)"
   ]
  },
  {
   "cell_type": "markdown",
   "metadata": {},
   "source": [
    "The probability of a person not boarding a cab despite having paid for the seat is 0.4. A rideshare app always sells 6 seats in their cabs which can only accommodate 4 people.\n",
    "\n",
    "What is the probability that everyone who shows up for the ride gets a seat?"
   ]
  },
  {
   "cell_type": "code",
   "execution_count": 5,
   "metadata": {},
   "outputs": [
    {
     "data": {
      "text/plain": [
       "0.76672"
      ]
     },
     "execution_count": 5,
     "metadata": {},
     "output_type": "execute_result"
    }
   ],
   "source": [
    "p=0.6\n",
    "n=6\n",
    "k=4\n",
    "binom.cdf(n=n,p=p,k=k)"
   ]
  },
  {
   "cell_type": "markdown",
   "metadata": {},
   "source": [
    "A large-scale survey by government automation authority found that 12% of the cars have faulty brake lights. Find the probability that in a random sample of 10 cars, less than 4 cars have faulty brake lights ?"
   ]
  },
  {
   "cell_type": "code",
   "execution_count": 7,
   "metadata": {},
   "outputs": [
    {
     "data": {
      "text/plain": [
       "0.9760611779412912"
      ]
     },
     "execution_count": 7,
     "metadata": {},
     "output_type": "execute_result"
    }
   ],
   "source": [
    "p=0.12\n",
    "n=10\n",
    "k=3\n",
    "binom.cdf(n=n,p=p,k=k)"
   ]
  },
  {
   "cell_type": "markdown",
   "metadata": {},
   "source": [
    "Samples of size 100 are selected from a population with a mean of 37 and a standard deviation of 12.\n",
    "\n",
    "The standard error of the sampling distribution of sample means is :"
   ]
  },
  {
   "cell_type": "code",
   "execution_count": 9,
   "metadata": {},
   "outputs": [
    {
     "data": {
      "text/plain": [
       "1.2"
      ]
     },
     "execution_count": 9,
     "metadata": {},
     "output_type": "execute_result"
    }
   ],
   "source": [
    "sd=12\n",
    "n=100\n",
    "se=sd/n**0.5\n",
    "se"
   ]
  },
  {
   "cell_type": "markdown",
   "metadata": {},
   "source": [
    "An Aadhar card number is selected at random from a database. Suppose X denotes the last digit of the selected Aadhar card number.\n",
    "\n",
    "a)What is the probability that the last digit of the selected number is 7?\n",
    "\n",
    "b) What is the probability that the last digit of the selected number is less than 4?"
   ]
  },
  {
   "cell_type": "markdown",
   "metadata": {},
   "source": [
    "1/10, 4/10"
   ]
  },
  {
   "cell_type": "markdown",
   "metadata": {},
   "source": [
    "A warehouse receives orders for a particular product regularly. When an order is placed, customers can order 1,2,3 or 4 units of the product. Past data suggests that the size of any given order is equally likely to be any of the four units.\n",
    "\n",
    "a)What is the probability that the customer orders at least two units?\n",
    "\n",
    "b) Calculate the mean of the customer order size.\n",
    "\n",
    "c) Calculate the standard deviation of the customer order size."
   ]
  },
  {
   "cell_type": "markdown",
   "metadata": {},
   "source": [
    "1/4+1/4+1/4=3/4\n",
    "(1+2+3+4)/4=2.5\n",
    "(((1-2.5)**2+(2-2.5)**2+(3-2.5)**2+(4-2.5)**2)/4)**0.5\n",
    "=1.118"
   ]
  },
  {
   "cell_type": "markdown",
   "metadata": {},
   "source": [
    "Suppose there are 20 different types of coupons and suppose that each time one obtains a coupon it is equally likely to be any one of the types. Compute the expected number of different types that are contained in the set for 10 coupons."
   ]
  },
  {
   "cell_type": "markdown",
   "metadata": {},
   "source": []
  },
  {
   "cell_type": "markdown",
   "metadata": {},
   "source": [
    "In a game of Tetris, there are seven different shapes: I, J, L, O, S, T, and Z.\n",
    "\n",
    "Assume that, at any stage of the game, all seven shapes are equally likely to be produced, independent of whatever pieces have been produced previously.\n",
    "\n",
    "Consider the sequences of three consecutive pieces observed during a game of Tetris, such as JLL, ZOS, ZSZ, III and so on.\n",
    "\n",
    "What is the probability that a 'T' does not occur in the first three-piece sequence, but does occur in the second such sequence?\n",
    "\n",
    "Note: Here we are considering non-overlapping sequences of three pieces."
   ]
  },
  {
   "cell_type": "markdown",
   "metadata": {},
   "source": [
    "Suppose you reside in a city with a large population. The weight of people living in your city follows a Gaussian distribution with a mean of 60 kgs with a standard deviation of 10 kgs.\n",
    "\n",
    "You weigh 65 kg. What is the probability that a randomly selected person in your city is heavier than you?\n",
    "\n",
    "(Round off the answer to 4 decimal points)"
   ]
  },
  {
   "cell_type": "code",
   "execution_count": 10,
   "metadata": {},
   "outputs": [
    {
     "data": {
      "text/plain": [
       "0.6914624612740131"
      ]
     },
     "execution_count": 10,
     "metadata": {},
     "output_type": "execute_result"
    }
   ],
   "source": [
    "from scipy.stats import norm\n",
    "z=(65-60)/10\n",
    "norm.cdf(z)"
   ]
  },
  {
   "cell_type": "markdown",
   "metadata": {},
   "source": [
    "It is known that the height of the students of ABC school follows a normal distribution with a mean of 170 cm and a standard deviation of 10 cm.\n",
    "\n",
    "What would be the height of a student, corresponding to a Z-Score of 1.5?\n"
   ]
  },
  {
   "cell_type": "markdown",
   "metadata": {},
   "source": [
    "185 \n",
    "1.5=(x-170)/10\n",
    "x=170+15"
   ]
  },
  {
   "cell_type": "markdown",
   "metadata": {},
   "source": [
    "A packaging plant fills bags with cement.\n",
    "\n",
    "The weight of the cement bags can be modelled by a normal distribution with a mean of 50kg and a standard deviation of 2 kg.\n",
    "\n",
    "Find the weight x that is exceeded by 99% of the bags."
   ]
  },
  {
   "cell_type": "code",
   "execution_count": 11,
   "metadata": {},
   "outputs": [
    {
     "data": {
      "text/plain": [
       "45.34730425191832"
      ]
     },
     "execution_count": 11,
     "metadata": {},
     "output_type": "execute_result"
    }
   ],
   "source": [
    "z=norm.ppf(0.01)\n",
    "# z1=(x-50)/2\n",
    "x=2*z+50\n",
    "x"
   ]
  },
  {
   "cell_type": "markdown",
   "metadata": {},
   "source": [
    "Based on extensive data from an urban freeway near Toronto, Canada.\n",
    "\n",
    "It is observed that freeway speeds can best be represented by a normal distribution.\n",
    "\n",
    "The mean and standard deviation reported were 119 km/h and 13.1 km/h, respectively. Which speed is among the fastest 10% of all speeds?"
   ]
  },
  {
   "cell_type": "code",
   "execution_count": 12,
   "metadata": {},
   "outputs": [
    {
     "data": {
      "text/plain": [
       "135.78832550863427"
      ]
     },
     "execution_count": 12,
     "metadata": {},
     "output_type": "execute_result"
    }
   ],
   "source": [
    "z1=norm.ppf(0.9)\n",
    "z=(x-119)/13.1\n",
    "x=13.1*z1+119\n",
    "x"
   ]
  },
  {
   "cell_type": "markdown",
   "metadata": {},
   "source": [
    "Suppose your city has a large population, where the average height is 65 inches with a standard deviation of 4 inches, and your height is 60 inches.\n",
    "\n",
    "What is the probability that a randomly selected person in your city is shorter than you?"
   ]
  },
  {
   "cell_type": "code",
   "execution_count": 13,
   "metadata": {},
   "outputs": [
    {
     "data": {
      "text/plain": [
       "0.10564977366685535"
      ]
     },
     "execution_count": 13,
     "metadata": {},
     "output_type": "execute_result"
    }
   ],
   "source": [
    "z=(60-65)/4\n",
    "z=norm.cdf(z)\n",
    "z\n"
   ]
  },
  {
   "cell_type": "markdown",
   "metadata": {},
   "source": [
    "The mean weight of a sample of dogs is 25 kg with a standard deviation of 3 kg. What is the z-score for a dog who weighs 20 kg ?"
   ]
  },
  {
   "cell_type": "code",
   "execution_count": 15,
   "metadata": {},
   "outputs": [
    {
     "data": {
      "text/plain": [
       "-1.6666666666666667"
      ]
     },
     "execution_count": 15,
     "metadata": {},
     "output_type": "execute_result"
    }
   ],
   "source": [
    "z=(20-25)/3\n",
    "z"
   ]
  },
  {
   "cell_type": "markdown",
   "metadata": {},
   "source": [
    "If electricity power failures occur according to a poisson distribution with an average of three failures every 20 weeks.\n",
    "\n",
    "Calculate the probability that there will not be more than one power failure during a week.\n",
    "\n",
    "(Round off the values to 4 decimal points)"
   ]
  },
  {
   "cell_type": "code",
   "execution_count": 23,
   "metadata": {},
   "outputs": [
    {
     "data": {
      "text/plain": [
       "0.9898"
      ]
     },
     "execution_count": 23,
     "metadata": {},
     "output_type": "execute_result"
    }
   ],
   "source": [
    "from scipy.stats import poisson\n",
    "round(poisson.cdf(mu=3/20,k=1),4)"
   ]
  },
  {
   "cell_type": "markdown",
   "metadata": {},
   "source": [
    "An observer counts 240 vehicles per hour (3600 seconds) at a specific vehicle arrival location on a highway.\n",
    "\n",
    "Assume that the arrivals follow the poisson distribution, What is the probability of one vehicle arriving over a 30-second time interval?"
   ]
  },
  {
   "cell_type": "code",
   "execution_count": 26,
   "metadata": {},
   "outputs": [
    {
     "data": {
      "text/plain": [
       "0.2706705664732254"
      ]
     },
     "execution_count": 26,
     "metadata": {},
     "output_type": "execute_result"
    }
   ],
   "source": [
    "poisson.pmf(mu=2,k= 1)"
   ]
  },
  {
   "cell_type": "markdown",
   "metadata": {},
   "source": [
    "You go to a party of 500 guests. What is the probability that exactly one other guest has the same birthday as you?\n",
    "\n",
    "Note: Exclude birthdays on February 29."
   ]
  },
  {
   "cell_type": "code",
   "execution_count": null,
   "metadata": {},
   "outputs": [],
   "source": []
  },
  {
   "cell_type": "markdown",
   "metadata": {},
   "source": [
    "As a data analyst at Global Mariotech, one of your prime duties is to understand customer sentiments and provide a better experience to the customers.\n",
    "\n",
    "Based on a recent survey, it was found that there were 30% negative responses, and 70% positive.\n",
    "\n",
    "Assuming that we pick one response after another randomly, estimate the number of feedbacks to expect, before a negative feedback appears."
   ]
  },
  {
   "cell_type": "code",
   "execution_count": null,
   "metadata": {},
   "outputs": [],
   "source": []
  },
  {
   "cell_type": "markdown",
   "metadata": {},
   "source": [
    "You are hired as a data scientist for the company SellMart.\n",
    "\n",
    "Your first task is to analyze the durations of customer support call.\n",
    "\n",
    "On an average, a customer care executive takes about 5 minutes to solve the issue of any customer. It is known that the time taken follows an exponential distribution.\n",
    "\n",
    "Find the probability that an executive spends 4 to 5 minutes with any randomly selected customer."
   ]
  },
  {
   "cell_type": "markdown",
   "metadata": {},
   "source": [
    "The amount of money customers spend in one trip to the supermarket follows an exponential distribution with a mean amount of Rs 1000.\n",
    "\n",
    "If a customer has Rs 600 in the wallet, what is the probability that the customer will need more money?"
   ]
  },
  {
   "cell_type": "markdown",
   "metadata": {},
   "source": [
    "A new pair of running shoes of Brank X are known to last 6 months, on an average, assuming that they are used every day.\n",
    "\n",
    "It is known that the duration of their lifespan follows exponential distributed.\n",
    "\n",
    "If a pair has already lasted 5 months, find the probability that it will last a total of over 9 months."
   ]
  },
  {
   "cell_type": "markdown",
   "metadata": {},
   "source": [
    "Suppose that the lifespan of an electronic gadget (in years) follows an exponential distribution. The average life span of an Electronic Gadget is known to be 2 years.\n",
    "\n",
    "Find the probability that :\n",
    "\n",
    "i) It will work for at least 6 years.\n",
    "\n",
    "ii) It will work for at most 6 years.\n",
    "\n",
    "Note: Round the output up to 2 decimal places."
   ]
  },
  {
   "cell_type": "markdown",
   "metadata": {},
   "source": [
    "For a certain railway agency, the number of days people book their rail ticket in advance can be modeled by an exponential distribution, with the average amount of time to be 4 days. Based on this data, how many days in advance do 75% of all travelers book tickets?"
   ]
  },
  {
   "cell_type": "code",
   "execution_count": null,
   "metadata": {},
   "outputs": [],
   "source": []
  },
  {
   "cell_type": "markdown",
   "metadata": {},
   "source": [
    "A small startup gets an average of 4 customer inquiries per day. What is the probability that the startup gets exactly 6 inquiries on a given day?"
   ]
  },
  {
   "cell_type": "code",
   "execution_count": 27,
   "metadata": {},
   "outputs": [
    {
     "data": {
      "text/plain": [
       "0.10419563456702102"
      ]
     },
     "execution_count": 27,
     "metadata": {},
     "output_type": "execute_result"
    }
   ],
   "source": [
    "poisson.pmf(mu=4,k=6)"
   ]
  },
  {
   "cell_type": "markdown",
   "metadata": {},
   "source": [
    "The average time for a machine part to fail is 2 hours. What is the probability that the machine part will last more than 3 hours before failing?\n"
   ]
  },
  {
   "cell_type": "code",
   "execution_count": 28,
   "metadata": {},
   "outputs": [
    {
     "data": {
      "text/plain": [
       "0.486582880967408"
      ]
     },
     "execution_count": 28,
     "metadata": {},
     "output_type": "execute_result"
    }
   ],
   "source": [
    "from scipy.stats import expon\n",
    "expon.cdf(x=2,scale=3)"
   ]
  },
  {
   "cell_type": "markdown",
   "metadata": {},
   "source": [
    "- Problem 1:\n",
    "    - A company manufactures light bulbs, and the probability that a randomly selected light bulb is defective is 0.02. If a batch contains 100 bulbs, what is the probability that exactly 3 bulbs are defective?\n",
    "\n",
    "- Problem 2:\n",
    "    - The heights of adults in a city are normally distributed with a mean height of 170 cm and a standard deviation of 10 cm. What is the probability that a randomly selected adult is taller than 180 cm?\n",
    "\n",
    "- Problem 3:\n",
    "    - A random number generator generates numbers uniformly between 0 and 10. What is the probability that the number generated will be between 3 and 7?\n",
    "\n",
    "- Problem 4:\n",
    "   - A call center receives an average of 5 calls per minute. What is the probability that exactly 3 calls will be received in the next minute?\n",
    "\n",
    "- Problem 5:\n",
    "    - The average time between arrivals of customers at a store is 10 minutes. What is the probability that the next customer will arrive within 5 minutes?\n",
    "\n",
    "- Problem 6:\n",
    "    - A die is rolled repeatedly. What is the probability that the first 6 will appear on the 4th roll?"
   ]
  },
  {
   "cell_type": "code",
   "execution_count": 29,
   "metadata": {},
   "outputs": [
    {
     "data": {
      "text/plain": [
       "0.18227594104651612"
      ]
     },
     "execution_count": 29,
     "metadata": {},
     "output_type": "execute_result"
    }
   ],
   "source": [
    "#problem 1\n",
    "n=100\n",
    "p=0.02\n",
    "k=3\n",
    "from scipy.stats import binom\n",
    "binom.pmf(n=n,p=p,k=k)"
   ]
  },
  {
   "cell_type": "code",
   "execution_count": 30,
   "metadata": {},
   "outputs": [
    {
     "data": {
      "text/plain": [
       "0.15865525393145707"
      ]
     },
     "execution_count": 30,
     "metadata": {},
     "output_type": "execute_result"
    }
   ],
   "source": [
    "#problem 2\n",
    "mu=170\n",
    "sd=10\n",
    "x=180\n",
    "z=(x-mu)/sd\n",
    "1-norm.cdf(z)"
   ]
  },
  {
   "cell_type": "code",
   "execution_count": 37,
   "metadata": {},
   "outputs": [],
   "source": [
    "#problem 3\n",
    "(7-3)/(10-0)\n",
    "\n",
    "a = 0  # Minimum value\n",
    "b = 10  # Maximum value\n",
    "start = 3  # Start of the range\n",
    "end = 7  # End of the range\n",
    "\n",
    "# Calculate the probability (CDF difference)\n",
    "from scipy.stats import uniform\n",
    "uniform_prob = uniform.cdf(end, a, b-a) - uniform.cdf(start, a, b-a)\n"
   ]
  },
  {
   "cell_type": "code",
   "execution_count": 32,
   "metadata": {},
   "outputs": [
    {
     "data": {
      "text/plain": [
       "0.1403738958142805"
      ]
     },
     "execution_count": 32,
     "metadata": {},
     "output_type": "execute_result"
    }
   ],
   "source": [
    "#problem 4\n",
    "mu=5\n",
    "k=3\n",
    "from scipy.stats import poisson\n",
    "poisson.pmf(mu=mu,k=k)"
   ]
  },
  {
   "cell_type": "code",
   "execution_count": 38,
   "metadata": {},
   "outputs": [
    {
     "data": {
      "text/plain": [
       "0.3934693402873666"
      ]
     },
     "execution_count": 38,
     "metadata": {},
     "output_type": "execute_result"
    }
   ],
   "source": [
    "mu=1/10\n",
    "k=5\n",
    "\n",
    "from scipy.stats import expon\n",
    "expon.cdf(x=k,scale=1/mu)"
   ]
  },
  {
   "cell_type": "code",
   "execution_count": 36,
   "metadata": {},
   "outputs": [
    {
     "data": {
      "text/plain": [
       "0.09645061728395063"
      ]
     },
     "execution_count": 36,
     "metadata": {},
     "output_type": "execute_result"
    }
   ],
   "source": [
    "from scipy.stats import geom\n",
    "geom.pmf(k=4,p=1/6)"
   ]
  },
  {
   "cell_type": "markdown",
   "metadata": {},
   "source": [
    "- Problem 1:\n",
    "    - A factory produces widgets, and each widget has a 0.1 probability of being defective. Out of a batch of 20 widgets, what is the probability that at most 2 widgets are defective?\n",
    "\n",
    "- Problem 2:\n",
    "    - The weight of apples in a grocery store is normally distributed with a mean of 150 grams and a standard deviation of 20 grams. What is the probability that a randomly selected apple weighs between 140 and 180 grams?\n",
    "\n",
    "- Problem 3:\n",
    "    - A random number generator picks a value between 5 and 15. What is the probability that the generated value is between 8 and 12?\n",
    "\n",
    "- Problem 4:\n",
    "    - A website receives an average of 10 hits per hour. What is the probability that the website will receive fewer than 8 hits in the next hour?\n",
    "\n",
    "- Problem 5:\n",
    "    - The average lifespan of a light bulb is 800 hours. What is the probability that a randomly chosen light bulb will burn out after 600 hours?\n",
    "\n",
    "- Problem 6:\n",
    "    - A salesman makes phone calls until he gets a successful sale. The probability of making a successful sale on a given call is 0.15. What is the probability that he makes his first sale on the 5th call?\n",
    "\n",
    "- Problem 7:\n",
    "    - A scientist is conducting an experiment, and each trial has a 60% success rate. If she performs 15 trials, what is the probability that she will succeed in exactly 9 trials?\n",
    "\n",
    "- Problem 8:\n",
    "    - The amount of rainfall in a region in a given day is normally distributed with an average of 5 mm and a standard deviation of 1.5 mm. What is the probability that the rainfall on a random day will be more than 7 mm?\n",
    "\n",
    "- Problem 9:\n",
    "    - A factory produces screws, and each screw has a 5% chance of being defective. What is the probability that the first defective screw is found on the 6th screw inspected?\n",
    "\n",
    "- Problem 10:\n",
    "    - A bakery sells an average of 12 cakes per day. What is the probability that they will sell exactly 15 cakes tomorrow?"
   ]
  },
  {
   "cell_type": "code",
   "execution_count": 39,
   "metadata": {},
   "outputs": [
    {
     "data": {
      "text/plain": [
       "0.6769268051894655"
      ]
     },
     "execution_count": 39,
     "metadata": {},
     "output_type": "execute_result"
    }
   ],
   "source": [
    "#Problem1\n",
    "p=0.1\n",
    "n=20\n",
    "k=2\n",
    "from scipy.stats import binom\n",
    "binom.cdf(n=n,p=p,k=k)"
   ]
  },
  {
   "cell_type": "code",
   "execution_count": 45,
   "metadata": {},
   "outputs": [
    {
     "data": {
      "text/plain": [
       "0.624655260005155"
      ]
     },
     "execution_count": 45,
     "metadata": {},
     "output_type": "execute_result"
    }
   ],
   "source": [
    "#problem2\n",
    "mu=150\n",
    "sd=20\n",
    "from scipy.stats import norm\n",
    "z1=(180-mu)/sd\n",
    "z2=(140-mu)/sd\n",
    "norm.cdf(z1)-norm.cdf(z2)"
   ]
  },
  {
   "cell_type": "code",
   "execution_count": 47,
   "metadata": {},
   "outputs": [
    {
     "data": {
      "text/plain": [
       "0.4"
      ]
     },
     "execution_count": 47,
     "metadata": {},
     "output_type": "execute_result"
    }
   ],
   "source": [
    "#problem3\n",
    "a=5\n",
    "b=15\n",
    "c=8\n",
    "d=12\n",
    "(d-c)/(b-a)"
   ]
  },
  {
   "cell_type": "code",
   "execution_count": 48,
   "metadata": {},
   "outputs": [
    {
     "data": {
      "text/plain": [
       "0.3328196787507191"
      ]
     },
     "execution_count": 48,
     "metadata": {},
     "output_type": "execute_result"
    }
   ],
   "source": [
    "#problem4\n",
    "from scipy.stats import poisson\n",
    "poisson.cdf(mu=10,k=8)"
   ]
  },
  {
   "cell_type": "code",
   "execution_count": 59,
   "metadata": {},
   "outputs": [
    {
     "data": {
      "text/plain": [
       "0.4723665527410147"
      ]
     },
     "execution_count": 59,
     "metadata": {},
     "output_type": "execute_result"
    }
   ],
   "source": [
    "#problem5\n",
    "mu=1/800\n",
    "from scipy.stats import expon\n",
    "1-expon.cdf(x=600,scale=1/mu)"
   ]
  },
  {
   "cell_type": "code",
   "execution_count": 52,
   "metadata": {},
   "outputs": [
    {
     "data": {
      "text/plain": [
       "0.07830093749999999"
      ]
     },
     "execution_count": 52,
     "metadata": {},
     "output_type": "execute_result"
    }
   ],
   "source": [
    "#problem6\n",
    "p=0.15\n",
    "k=5\n",
    "from scipy.stats import geom\n",
    "geom.pmf(p=p,k=k)"
   ]
  },
  {
   "cell_type": "code",
   "execution_count": 54,
   "metadata": {},
   "outputs": [
    {
     "data": {
      "text/plain": [
       "0.20659760529408014"
      ]
     },
     "execution_count": 54,
     "metadata": {},
     "output_type": "execute_result"
    }
   ],
   "source": [
    "#problem7\n",
    "p=0.6\n",
    "n=15\n",
    "k=9\n",
    "from scipy.stats import binom\n",
    "binom.pmf(n=n,p=p,k=k)"
   ]
  },
  {
   "cell_type": "code",
   "execution_count": 60,
   "metadata": {},
   "outputs": [
    {
     "data": {
      "text/plain": [
       "0.09121121972586788"
      ]
     },
     "execution_count": 60,
     "metadata": {},
     "output_type": "execute_result"
    }
   ],
   "source": [
    "#problem8\n",
    "mu=5\n",
    "sd=1.5\n",
    "x=7\n",
    "from scipy.stats import norm\n",
    "z=(x-mu)/sd\n",
    "1-norm.cdf(z)"
   ]
  },
  {
   "cell_type": "code",
   "execution_count": 61,
   "metadata": {},
   "outputs": [
    {
     "data": {
      "text/plain": [
       "0.038689046874999994"
      ]
     },
     "execution_count": 61,
     "metadata": {},
     "output_type": "execute_result"
    }
   ],
   "source": [
    "#problem9\n",
    "p=0.05\n",
    "k=6\n",
    "from scipy.stats import geom\n",
    "geom.pmf(p=p,k=k)"
   ]
  },
  {
   "cell_type": "code",
   "execution_count": 58,
   "metadata": {},
   "outputs": [
    {
     "data": {
      "text/plain": [
       "0.07239112014663847"
      ]
     },
     "execution_count": 58,
     "metadata": {},
     "output_type": "execute_result"
    }
   ],
   "source": [
    "k=15\n",
    "mu=12\n",
    "from scipy.stats import poisson\n",
    "poisson.pmf(mu=mu,k=k)"
   ]
  },
  {
   "cell_type": "markdown",
   "metadata": {},
   "source": [
    "\n",
    "Here are some problems for you to practice:\n",
    "- Problem 1\n",
    "    - A manufacturing process produces bolts with a probability of 0.95 of meeting quality standards. If 10 bolts are randomly selected, what is the probability that:\n",
    "        - Exactly 9 bolts meet quality standards?\n",
    "        - At least 8 bolts meet quality standards?\n",
    "Implement a solution in Python.\n",
    "- Problem 2\n",
    "    - The scores of a certain exam are known to have a mean of 75 and a standard deviation of 10. What is the probability that a randomly selected student scores:\n",
    "        - Between 80 and 90?\n",
    "        - Above 95?\n",
    "- Problem 3\n",
    "    - A random variable X is uniformly distributed between 2 and 8. Find the probability that:\n",
    "        - X is less than 5\n",
    "        - X is greater than or equal to 6\n",
    "- Problem 4\n",
    "    - The number of phone calls received by a call center in an hour follows a distribution with a mean of 20. What is the probability that:\n",
    "        - Exactly 25 calls are received in an hour?\n",
    "        - Less than 15 calls are received in an hour?\n",
    "- Problem 5\n",
    "    - The time between arrivals of customers at a store follows a distribution with a mean of 3 minutes. What is the probability that:\n",
    "        - The next customer arrives within 2 minutes?\n",
    "        - The next customer arrives after 5 minutes?\n",
    "- Problem 6\n",
    "    - A gambler plays a game where the probability of winning is 0.4. What is the probability that the gambler wins:\n",
    "        - Exactly 3 times in 10 games?\n",
    "        - At least once in 5 games?"
   ]
  },
  {
   "cell_type": "code",
   "execution_count": 101,
   "metadata": {},
   "outputs": [
    {
     "data": {
      "text/plain": [
       "0.9138616441006835"
      ]
     },
     "execution_count": 101,
     "metadata": {},
     "output_type": "execute_result"
    }
   ],
   "source": [
    "#problem1\n",
    "p=0.95\n",
    "n=10\n",
    "k=9\n",
    "#meeting stds\n",
    "from scipy.stats import binom\n",
    "binom.pmf(n=n,p=p,k=k) #0.3151\n",
    "#atleast 8 x>=8\n",
    "1-binom.cdf(n=n,p=p,k=8)\n"
   ]
  },
  {
   "cell_type": "code",
   "execution_count": 91,
   "metadata": {},
   "outputs": [
    {
     "data": {
      "text/plain": [
       "0.3085375387259869"
      ]
     },
     "execution_count": 91,
     "metadata": {},
     "output_type": "execute_result"
    }
   ],
   "source": [
    "mu=75\n",
    "sd=10\n",
    "x1=90\n",
    "x2=80\n",
    "#between 80 and 90\n",
    "z1=(x1-mu)/sd\n",
    "z2=(x2-mu)/sd\n",
    "norm.cdf(z1)-norm.cdf(z2) #0.241\n",
    "# above 95\n",
    "x3=95\n",
    "z3=(x2-mu)/sd\n",
    "1-norm.cdf(z3)"
   ]
  },
  {
   "cell_type": "code",
   "execution_count": 75,
   "metadata": {},
   "outputs": [
    {
     "data": {
      "text/plain": [
       "0.3333333333333333"
      ]
     },
     "execution_count": 75,
     "metadata": {},
     "output_type": "execute_result"
    }
   ],
   "source": [
    "#problem3\n",
    "a=8\n",
    "b=2\n",
    "#less than 5\n",
    "(5-2)/(8-2) #0.5\n",
    "#greater than or equal to 6\n",
    "(8-6)/(8-2)"
   ]
  },
  {
   "cell_type": "code",
   "execution_count": 93,
   "metadata": {},
   "outputs": [
    {
     "data": {
      "text/plain": [
       "0.15651313463974287"
      ]
     },
     "execution_count": 93,
     "metadata": {},
     "output_type": "execute_result"
    }
   ],
   "source": [
    "#problem4\n",
    "mu=20\n",
    "k=25\n",
    "from scipy.stats import poisson\n",
    "poisson.pmf(mu=mu,k=k) #0.044\n",
    "#less than 15\n",
    "poisson.cdf(mu=mu,k=15)"
   ]
  },
  {
   "cell_type": "code",
   "execution_count": 95,
   "metadata": {},
   "outputs": [
    {
     "data": {
      "text/plain": [
       "0.18887560283756177"
      ]
     },
     "execution_count": 95,
     "metadata": {},
     "output_type": "execute_result"
    }
   ],
   "source": [
    "#problem5\n",
    "lambda_mu=1/3\n",
    "x=3\n",
    "from scipy.stats import expon\n",
    "expon.cdf(x=x,scale=1/lambda_mu) #0.6321\n",
    "#after 5 mins\n",
    "1-expon.cdf(x=5,scale=1/lambda_mu)\n",
    "\n"
   ]
  },
  {
   "cell_type": "code",
   "execution_count": 105,
   "metadata": {},
   "outputs": [
    {
     "data": {
      "text/plain": [
       "0.92224"
      ]
     },
     "execution_count": 105,
     "metadata": {},
     "output_type": "execute_result"
    }
   ],
   "source": [
    "#PROBLEM6\n",
    "p=0.4\n",
    "k=3\n",
    "#exactly3\n",
    "geom.pmf(p=p,k=k) #0.214\n",
    "#atleast once in 5 games\n",
    "# from scipy.stats import geom\n",
    "geom.cdf(p=p,k=5) #0.051"
   ]
  },
  {
   "cell_type": "code",
   "execution_count": 108,
   "metadata": {},
   "outputs": [
    {
     "data": {
      "text/plain": [
       "0.08144952294577923"
      ]
     },
     "execution_count": 108,
     "metadata": {},
     "output_type": "execute_result"
    }
   ],
   "source": [
    "from scipy.stats import expon\n",
    "expon.cdf(scale=5,x=5)-expon.cdf(scale=5,x=4)"
   ]
  },
  {
   "cell_type": "code",
   "execution_count": 109,
   "metadata": {},
   "outputs": [
    {
     "data": {
      "text/plain": [
       "0.5488116360940265"
      ]
     },
     "execution_count": 109,
     "metadata": {},
     "output_type": "execute_result"
    },
    {
     "ename": "",
     "evalue": "",
     "output_type": "error",
     "traceback": [
      "\u001b[1;31mThe Kernel crashed while executing code in the current cell or a previous cell. \n",
      "\u001b[1;31mPlease review the code in the cell(s) to identify a possible cause of the failure. \n",
      "\u001b[1;31mClick <a href='https://aka.ms/vscodeJupyterKernelCrash'>here</a> for more info. \n",
      "\u001b[1;31mView Jupyter <a href='command:jupyter.viewOutput'>log</a> for further details."
     ]
    }
   ],
   "source": [
    "mu=1/1000\n",
    "x=600\n",
    "1-expon.cdf(x=x,scale=1/mu)"
   ]
  }
 ],
 "metadata": {
  "kernelspec": {
   "display_name": "Python 3",
   "language": "python",
   "name": "python3"
  },
  "language_info": {
   "codemirror_mode": {
    "name": "ipython",
    "version": 3
   },
   "file_extension": ".py",
   "mimetype": "text/x-python",
   "name": "python",
   "nbconvert_exporter": "python",
   "pygments_lexer": "ipython3",
   "version": "3.12.3"
  }
 },
 "nbformat": 4,
 "nbformat_minor": 2
}
